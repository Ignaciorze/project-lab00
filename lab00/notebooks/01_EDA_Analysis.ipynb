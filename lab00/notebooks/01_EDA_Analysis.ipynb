{
 "cells": [
  {
   "cell_type": "code",
   "execution_count": 18,
   "metadata": {},
   "outputs": [
    {
     "data": {
      "text/html": [
       "<div>\n",
       "<style scoped>\n",
       "    .dataframe tbody tr th:only-of-type {\n",
       "        vertical-align: middle;\n",
       "    }\n",
       "\n",
       "    .dataframe tbody tr th {\n",
       "        vertical-align: top;\n",
       "    }\n",
       "\n",
       "    .dataframe thead th {\n",
       "        text-align: right;\n",
       "    }\n",
       "</style>\n",
       "<table border=\"1\" class=\"dataframe\">\n",
       "  <thead>\n",
       "    <tr style=\"text-align: right;\">\n",
       "      <th></th>\n",
       "      <th>Unnamed: 0</th>\n",
       "      <th>gender</th>\n",
       "      <th>race/ethnicity</th>\n",
       "      <th>parental level of education</th>\n",
       "      <th>lunch</th>\n",
       "      <th>test preparation course</th>\n",
       "      <th>math score</th>\n",
       "      <th>reading score</th>\n",
       "      <th>writing score</th>\n",
       "    </tr>\n",
       "  </thead>\n",
       "  <tbody>\n",
       "    <tr>\n",
       "      <th>0</th>\n",
       "      <td>0</td>\n",
       "      <td>female</td>\n",
       "      <td>group B</td>\n",
       "      <td>bachelor's degree</td>\n",
       "      <td>standard</td>\n",
       "      <td>none</td>\n",
       "      <td>72</td>\n",
       "      <td>72</td>\n",
       "      <td>74</td>\n",
       "    </tr>\n",
       "    <tr>\n",
       "      <th>1</th>\n",
       "      <td>1</td>\n",
       "      <td>female</td>\n",
       "      <td>group C</td>\n",
       "      <td>some college</td>\n",
       "      <td>standard</td>\n",
       "      <td>completed</td>\n",
       "      <td>69</td>\n",
       "      <td>90</td>\n",
       "      <td>88</td>\n",
       "    </tr>\n",
       "    <tr>\n",
       "      <th>2</th>\n",
       "      <td>2</td>\n",
       "      <td>female</td>\n",
       "      <td>group B</td>\n",
       "      <td>master's degree</td>\n",
       "      <td>standard</td>\n",
       "      <td>none</td>\n",
       "      <td>90</td>\n",
       "      <td>95</td>\n",
       "      <td>93</td>\n",
       "    </tr>\n",
       "    <tr>\n",
       "      <th>3</th>\n",
       "      <td>3</td>\n",
       "      <td>male</td>\n",
       "      <td>group A</td>\n",
       "      <td>associate's degree</td>\n",
       "      <td>free/reduced</td>\n",
       "      <td>none</td>\n",
       "      <td>47</td>\n",
       "      <td>57</td>\n",
       "      <td>44</td>\n",
       "    </tr>\n",
       "    <tr>\n",
       "      <th>4</th>\n",
       "      <td>4</td>\n",
       "      <td>male</td>\n",
       "      <td>group C</td>\n",
       "      <td>some college</td>\n",
       "      <td>standard</td>\n",
       "      <td>none</td>\n",
       "      <td>76</td>\n",
       "      <td>78</td>\n",
       "      <td>75</td>\n",
       "    </tr>\n",
       "  </tbody>\n",
       "</table>\n",
       "</div>"
      ],
      "text/plain": [
       "   Unnamed: 0  gender race/ethnicity parental level of education  \\\n",
       "0           0  female        group B           bachelor's degree   \n",
       "1           1  female        group C                some college   \n",
       "2           2  female        group B             master's degree   \n",
       "3           3    male        group A          associate's degree   \n",
       "4           4    male        group C                some college   \n",
       "\n",
       "          lunch test preparation course  math score  reading score  \\\n",
       "0      standard                    none          72             72   \n",
       "1      standard               completed          69             90   \n",
       "2      standard                    none          90             95   \n",
       "3  free/reduced                    none          47             57   \n",
       "4      standard                    none          76             78   \n",
       "\n",
       "   writing score  \n",
       "0             74  \n",
       "1             88  \n",
       "2             93  \n",
       "3             44  \n",
       "4             75  "
      ]
     },
     "execution_count": 18,
     "metadata": {},
     "output_type": "execute_result"
    }
   ],
   "source": [
    "students_p = pd.read_csv('../data/02_intermidiate.csv', delimiter = ',') \n",
    "students_p.head(5)"
   ]
  },
  {
   "cell_type": "markdown",
   "metadata": {},
   "source": [
    "## Histogramas y gráficas"
   ]
  },
  {
   "cell_type": "code",
   "execution_count": 16,
   "metadata": {},
   "outputs": [],
   "source": [
    "import pandas as pd\n",
    "import numpy as np\n",
    "import matplotlib.pyplot as plt\n",
    "import seaborn as sns"
   ]
  },
  {
   "cell_type": "markdown",
   "metadata": {},
   "source": [
    "### Histograma de las asignaturas"
   ]
  },
  {
   "cell_type": "code",
   "execution_count": 19,
   "metadata": {},
   "outputs": [
    {
     "ename": "ValueError",
     "evalue": "Could not interpret value `math_score` for parameter `x`",
     "output_type": "error",
     "traceback": [
      "\u001b[1;31m---------------------------------------------------------------------------\u001b[0m",
      "\u001b[1;31mValueError\u001b[0m                                Traceback (most recent call last)",
      "\u001b[1;32m<ipython-input-19-1dd5287a7f76>\u001b[0m in \u001b[0;36m<module>\u001b[1;34m\u001b[0m\n\u001b[0;32m      1\u001b[0m \u001b[0mfigura\u001b[0m\u001b[1;33m,\u001b[0m \u001b[1;33m(\u001b[0m\u001b[0max1\u001b[0m\u001b[1;33m,\u001b[0m \u001b[0max2\u001b[0m\u001b[1;33m,\u001b[0m \u001b[0max3\u001b[0m\u001b[1;33m)\u001b[0m \u001b[1;33m=\u001b[0m \u001b[0mplt\u001b[0m\u001b[1;33m.\u001b[0m\u001b[0msubplots\u001b[0m\u001b[1;33m(\u001b[0m\u001b[1;36m1\u001b[0m\u001b[1;33m,\u001b[0m \u001b[1;36m3\u001b[0m\u001b[1;33m,\u001b[0m \u001b[0mfigsize\u001b[0m \u001b[1;33m=\u001b[0m \u001b[1;33m(\u001b[0m\u001b[1;36m20\u001b[0m\u001b[1;33m,\u001b[0m\u001b[1;36m7\u001b[0m\u001b[1;33m)\u001b[0m\u001b[1;33m)\u001b[0m\u001b[1;33m\u001b[0m\u001b[1;33m\u001b[0m\u001b[0m\n\u001b[1;32m----> 2\u001b[1;33m \u001b[0msns\u001b[0m\u001b[1;33m.\u001b[0m\u001b[0mhistplot\u001b[0m\u001b[1;33m(\u001b[0m\u001b[0mstudents_p\u001b[0m\u001b[1;33m,\u001b[0m \u001b[0max\u001b[0m\u001b[1;33m=\u001b[0m\u001b[0max1\u001b[0m\u001b[1;33m,\u001b[0m \u001b[0mx\u001b[0m\u001b[1;33m=\u001b[0m\u001b[1;34m\"math_score\"\u001b[0m\u001b[1;33m,\u001b[0m \u001b[0mcolor\u001b[0m \u001b[1;33m=\u001b[0m \u001b[1;34m'blue'\u001b[0m\u001b[1;33m)\u001b[0m\u001b[1;33m\u001b[0m\u001b[1;33m\u001b[0m\u001b[0m\n\u001b[0m\u001b[0;32m      3\u001b[0m \u001b[0msns\u001b[0m\u001b[1;33m.\u001b[0m\u001b[0mhistplot\u001b[0m\u001b[1;33m(\u001b[0m\u001b[0mstudents_p\u001b[0m\u001b[1;33m,\u001b[0m \u001b[0max\u001b[0m\u001b[1;33m=\u001b[0m\u001b[0max2\u001b[0m\u001b[1;33m,\u001b[0m \u001b[0mx\u001b[0m\u001b[1;33m=\u001b[0m\u001b[1;34m\"reading_score\"\u001b[0m\u001b[1;33m,\u001b[0m \u001b[0mcolor\u001b[0m \u001b[1;33m=\u001b[0m \u001b[1;34m'orange'\u001b[0m\u001b[1;33m)\u001b[0m\u001b[1;33m\u001b[0m\u001b[1;33m\u001b[0m\u001b[0m\n\u001b[0;32m      4\u001b[0m \u001b[0msns\u001b[0m\u001b[1;33m.\u001b[0m\u001b[0mhistplot\u001b[0m\u001b[1;33m(\u001b[0m\u001b[0mstudents_p\u001b[0m\u001b[1;33m,\u001b[0m \u001b[0max\u001b[0m\u001b[1;33m=\u001b[0m\u001b[0max3\u001b[0m\u001b[1;33m,\u001b[0m \u001b[0mx\u001b[0m\u001b[1;33m=\u001b[0m\u001b[1;34m\"writing_score\"\u001b[0m\u001b[1;33m,\u001b[0m \u001b[0mcolor\u001b[0m \u001b[1;33m=\u001b[0m \u001b[1;34m'red'\u001b[0m\u001b[1;33m)\u001b[0m\u001b[1;33m\u001b[0m\u001b[1;33m\u001b[0m\u001b[0m\n",
      "\u001b[1;32m~\\anaconda3\\envs\\eda_env\\lib\\site-packages\\seaborn\\distributions.py\u001b[0m in \u001b[0;36mhistplot\u001b[1;34m(data, x, y, hue, weights, stat, bins, binwidth, binrange, discrete, cumulative, common_bins, common_norm, multiple, element, fill, shrink, kde, kde_kws, line_kws, thresh, pthresh, pmax, cbar, cbar_ax, cbar_kws, palette, hue_order, hue_norm, color, log_scale, legend, ax, **kwargs)\u001b[0m\n\u001b[0;32m   1388\u001b[0m ):\n\u001b[0;32m   1389\u001b[0m \u001b[1;33m\u001b[0m\u001b[0m\n\u001b[1;32m-> 1390\u001b[1;33m     p = _DistributionPlotter(\n\u001b[0m\u001b[0;32m   1391\u001b[0m         \u001b[0mdata\u001b[0m\u001b[1;33m=\u001b[0m\u001b[0mdata\u001b[0m\u001b[1;33m,\u001b[0m\u001b[1;33m\u001b[0m\u001b[1;33m\u001b[0m\u001b[0m\n\u001b[0;32m   1392\u001b[0m         \u001b[0mvariables\u001b[0m\u001b[1;33m=\u001b[0m\u001b[0m_DistributionPlotter\u001b[0m\u001b[1;33m.\u001b[0m\u001b[0mget_semantics\u001b[0m\u001b[1;33m(\u001b[0m\u001b[0mlocals\u001b[0m\u001b[1;33m(\u001b[0m\u001b[1;33m)\u001b[0m\u001b[1;33m)\u001b[0m\u001b[1;33m\u001b[0m\u001b[1;33m\u001b[0m\u001b[0m\n",
      "\u001b[1;32m~\\anaconda3\\envs\\eda_env\\lib\\site-packages\\seaborn\\distributions.py\u001b[0m in \u001b[0;36m__init__\u001b[1;34m(self, data, variables)\u001b[0m\n\u001b[0;32m    106\u001b[0m     ):\n\u001b[0;32m    107\u001b[0m \u001b[1;33m\u001b[0m\u001b[0m\n\u001b[1;32m--> 108\u001b[1;33m         \u001b[0msuper\u001b[0m\u001b[1;33m(\u001b[0m\u001b[1;33m)\u001b[0m\u001b[1;33m.\u001b[0m\u001b[0m__init__\u001b[0m\u001b[1;33m(\u001b[0m\u001b[0mdata\u001b[0m\u001b[1;33m=\u001b[0m\u001b[0mdata\u001b[0m\u001b[1;33m,\u001b[0m \u001b[0mvariables\u001b[0m\u001b[1;33m=\u001b[0m\u001b[0mvariables\u001b[0m\u001b[1;33m)\u001b[0m\u001b[1;33m\u001b[0m\u001b[1;33m\u001b[0m\u001b[0m\n\u001b[0m\u001b[0;32m    109\u001b[0m \u001b[1;33m\u001b[0m\u001b[0m\n\u001b[0;32m    110\u001b[0m     \u001b[1;33m@\u001b[0m\u001b[0mproperty\u001b[0m\u001b[1;33m\u001b[0m\u001b[1;33m\u001b[0m\u001b[0m\n",
      "\u001b[1;32m~\\anaconda3\\envs\\eda_env\\lib\\site-packages\\seaborn\\_core.py\u001b[0m in \u001b[0;36m__init__\u001b[1;34m(self, data, variables)\u001b[0m\n\u001b[0;32m    602\u001b[0m     \u001b[1;32mdef\u001b[0m \u001b[0m__init__\u001b[0m\u001b[1;33m(\u001b[0m\u001b[0mself\u001b[0m\u001b[1;33m,\u001b[0m \u001b[0mdata\u001b[0m\u001b[1;33m=\u001b[0m\u001b[1;32mNone\u001b[0m\u001b[1;33m,\u001b[0m \u001b[0mvariables\u001b[0m\u001b[1;33m=\u001b[0m\u001b[1;33m{\u001b[0m\u001b[1;33m}\u001b[0m\u001b[1;33m)\u001b[0m\u001b[1;33m:\u001b[0m\u001b[1;33m\u001b[0m\u001b[1;33m\u001b[0m\u001b[0m\n\u001b[0;32m    603\u001b[0m \u001b[1;33m\u001b[0m\u001b[0m\n\u001b[1;32m--> 604\u001b[1;33m         \u001b[0mself\u001b[0m\u001b[1;33m.\u001b[0m\u001b[0massign_variables\u001b[0m\u001b[1;33m(\u001b[0m\u001b[0mdata\u001b[0m\u001b[1;33m,\u001b[0m \u001b[0mvariables\u001b[0m\u001b[1;33m)\u001b[0m\u001b[1;33m\u001b[0m\u001b[1;33m\u001b[0m\u001b[0m\n\u001b[0m\u001b[0;32m    605\u001b[0m \u001b[1;33m\u001b[0m\u001b[0m\n\u001b[0;32m    606\u001b[0m         \u001b[1;32mfor\u001b[0m \u001b[0mvar\u001b[0m\u001b[1;33m,\u001b[0m \u001b[0mcls\u001b[0m \u001b[1;32min\u001b[0m \u001b[0mself\u001b[0m\u001b[1;33m.\u001b[0m\u001b[0m_semantic_mappings\u001b[0m\u001b[1;33m.\u001b[0m\u001b[0mitems\u001b[0m\u001b[1;33m(\u001b[0m\u001b[1;33m)\u001b[0m\u001b[1;33m:\u001b[0m\u001b[1;33m\u001b[0m\u001b[1;33m\u001b[0m\u001b[0m\n",
      "\u001b[1;32m~\\anaconda3\\envs\\eda_env\\lib\\site-packages\\seaborn\\_core.py\u001b[0m in \u001b[0;36massign_variables\u001b[1;34m(self, data, variables)\u001b[0m\n\u001b[0;32m    665\u001b[0m         \u001b[1;32melse\u001b[0m\u001b[1;33m:\u001b[0m\u001b[1;33m\u001b[0m\u001b[1;33m\u001b[0m\u001b[0m\n\u001b[0;32m    666\u001b[0m             \u001b[0mself\u001b[0m\u001b[1;33m.\u001b[0m\u001b[0minput_format\u001b[0m \u001b[1;33m=\u001b[0m \u001b[1;34m\"long\"\u001b[0m\u001b[1;33m\u001b[0m\u001b[1;33m\u001b[0m\u001b[0m\n\u001b[1;32m--> 667\u001b[1;33m             plot_data, variables = self._assign_variables_longform(\n\u001b[0m\u001b[0;32m    668\u001b[0m                 \u001b[0mdata\u001b[0m\u001b[1;33m,\u001b[0m \u001b[1;33m**\u001b[0m\u001b[0mvariables\u001b[0m\u001b[1;33m,\u001b[0m\u001b[1;33m\u001b[0m\u001b[1;33m\u001b[0m\u001b[0m\n\u001b[0;32m    669\u001b[0m             )\n",
      "\u001b[1;32m~\\anaconda3\\envs\\eda_env\\lib\\site-packages\\seaborn\\_core.py\u001b[0m in \u001b[0;36m_assign_variables_longform\u001b[1;34m(self, data, **kwargs)\u001b[0m\n\u001b[0;32m    885\u001b[0m                     \u001b[1;31m# We don't know what this name means\u001b[0m\u001b[1;33m\u001b[0m\u001b[1;33m\u001b[0m\u001b[1;33m\u001b[0m\u001b[0m\n\u001b[0;32m    886\u001b[0m                     \u001b[0merr\u001b[0m \u001b[1;33m=\u001b[0m \u001b[1;34mf\"Could not interpret value `{val}` for parameter `{key}`\"\u001b[0m\u001b[1;33m\u001b[0m\u001b[1;33m\u001b[0m\u001b[0m\n\u001b[1;32m--> 887\u001b[1;33m                     \u001b[1;32mraise\u001b[0m \u001b[0mValueError\u001b[0m\u001b[1;33m(\u001b[0m\u001b[0merr\u001b[0m\u001b[1;33m)\u001b[0m\u001b[1;33m\u001b[0m\u001b[1;33m\u001b[0m\u001b[0m\n\u001b[0m\u001b[0;32m    888\u001b[0m \u001b[1;33m\u001b[0m\u001b[0m\n\u001b[0;32m    889\u001b[0m             \u001b[1;32melse\u001b[0m\u001b[1;33m:\u001b[0m\u001b[1;33m\u001b[0m\u001b[1;33m\u001b[0m\u001b[0m\n",
      "\u001b[1;31mValueError\u001b[0m: Could not interpret value `math_score` for parameter `x`"
     ]
    },
    {
     "data": {
      "image/png": "[encoded data removed]",
      "text/plain": [
       "<Figure size 1440x504 with 3 Axes>"
      ]
     },
     "metadata": {
      "needs_background": "light"
     },
     "output_type": "display_data"
    }
   ],
   "source": [
    "figura, (ax1, ax2, ax3) = plt.subplots(1, 3, figsize = (20,7))\n",
    "sns.histplot(students_p, ax=ax1, x=\"math_score\", color = 'blue')\n",
    "sns.histplot(students_p, ax=ax2, x=\"reading_score\", color = 'orange')\n",
    "sns.histplot(students_p, ax=ax3, x=\"writing_score\", color = 'red')"
   ]
  },
  {
   "cell_type": "markdown",
   "metadata": {},
   "source": [
    "### Distribución de las notas"
   ]
  },
  {
   "cell_type": "code",
   "execution_count": null,
   "metadata": {},
   "outputs": [],
   "source": [
    "# En matemáticas\n",
    "print(students_p['math_score'].describe())\n",
    "plt.figure(figsize=(9, 8))\n",
    "sns.distplot(students_p['math_score'], color='g', bins=100, hist_kws={'alpha': 0.4});"
   ]
  },
  {
   "cell_type": "code",
   "execution_count": null,
   "metadata": {},
   "outputs": [],
   "source": [
    "# En comprensión lectora\n",
    "print(students_p['reading_score'].describe())\n",
    "plt.figure(figsize=(9, 8))\n",
    "sns.distplot(students_p['reading_score'], color='g', bins=100, hist_kws={'alpha': 0.4});"
   ]
  },
  {
   "cell_type": "code",
   "execution_count": null,
   "metadata": {},
   "outputs": [],
   "source": [
    "# En expresión escrita\n",
    "print(students_p['writing_score'].describe())\n",
    "plt.figure(figsize=(9, 8))\n",
    "sns.distplot(students_p['writing_score'], color='g', bins=100, hist_kws={'alpha': 0.4});"
   ]
  },
  {
   "cell_type": "markdown",
   "metadata": {},
   "source": [
    "### Ánalisis de la asimetría de las asignaturas"
   ]
  },
  {
   "cell_type": "code",
   "execution_count": null,
   "metadata": {},
   "outputs": [],
   "source": [
    "sns.distplot(students_p['math_score'])"
   ]
  },
  {
   "cell_type": "code",
   "execution_count": null,
   "metadata": {},
   "outputs": [],
   "source": [
    "sns.distplot(students_p['reading_score'])"
   ]
  },
  {
   "cell_type": "code",
   "execution_count": null,
   "metadata": {},
   "outputs": [],
   "source": [
    "sns.distplot(students_p['writing_score'])"
   ]
  },
  {
   "cell_type": "markdown",
   "metadata": {},
   "source": [
    "### Distribución numérica del dataset"
   ]
  },
  {
   "cell_type": "code",
   "execution_count": null,
   "metadata": {},
   "outputs": [],
   "source": [
    "list(set(students_p.dtypes.tolist()))\n",
    "students_p_num = students_p.select_dtypes(include = ['float64', 'int64'])\n",
    "students_p_num.head()"
   ]
  },
  {
   "cell_type": "markdown",
   "metadata": {},
   "source": [
    "### Análisis bivariante entre asignaturas"
   ]
  },
  {
   "cell_type": "code",
   "execution_count": null,
   "metadata": {},
   "outputs": [],
   "source": [
    "figura, (ax1, ax2, ax3) = plt.subplots(1, 3, figsize = (25,10))\n",
    "students_p.plot.scatter(ax = ax1, x=\"math_score\",y=\"reading_score\")\n",
    "students_p.plot.scatter(ax = ax2, x=\"math_score\",y=\"writing_score\")\n",
    "students_p.plot.scatter(ax = ax3, x=\"reading_score\",y=\"writing_score\")"
   ]
  },
  {
   "cell_type": "code",
   "execution_count": null,
   "metadata": {},
   "outputs": [],
   "source": [
    "sns.pairplot(data = students_p, vars=['math_score','reading_score','writing_score'])\n",
    "plt.show()"
   ]
  },
  {
   "cell_type": "markdown",
   "metadata": {},
   "source": [
    "### Examenes realizados por género"
   ]
  },
  {
   "cell_type": "code",
   "execution_count": null,
   "metadata": {},
   "outputs": [],
   "source": [
    "examenes_por_genero = students_p.groupby(['gender']).gender.agg(['count']).reset_index()\n",
    "examenes_por_genero"
   ]
  },
  {
   "cell_type": "code",
   "execution_count": null,
   "metadata": {},
   "outputs": [],
   "source": [
    "figura, (ax1) = plt.subplots(1, figsize = (15, 5))\n",
    "examenes_por_genero.plot(ax=ax1, kind = 'bar', color= (\"cyan\"), title = 'Examenes realizados por hombres y mujeres', grid = True)\n",
    "ax1.set_xlabel('Sexo')\n",
    "ax1.set_ylabel('Nº de examenes')\n",
    "plt.legend()\n",
    "ax1.set_xticklabels(examenes_por_genero.gender)"
   ]
  },
  {
   "cell_type": "markdown",
   "metadata": {},
   "source": [
    "### Media de las asignaturas por género"
   ]
  },
  {
   "cell_type": "code",
   "execution_count": null,
   "metadata": {},
   "outputs": [],
   "source": [
    "media_asignaturas_por_genero = students_p[[\"gender\",\"math_score\",\"reading_score\",\"writing_score\"]].groupby('gender').mean()\n",
    "media_asignaturas_por_genero"
   ]
  },
  {
   "cell_type": "code",
   "execution_count": null,
   "metadata": {},
   "outputs": [],
   "source": [
    "media_asignaturas_por_genero.unstack().plot(kind = 'bar', color='orange', grid = True, title = 'Media de las asignaturas por género')"
   ]
  },
  {
   "cell_type": "code",
   "execution_count": null,
   "metadata": {},
   "outputs": [],
   "source": [
    "figura, (ax1, ax2, ax3) = plt.subplots(1, 3, figsize = (20,7))\n",
    "sns.histplot(students_p, ax=ax1, x=\"math_score\", hue=\"gender\")\n",
    "sns.histplot(students_p, ax=ax2, x=\"reading_score\", hue=\"gender\")\n",
    "sns.histplot(students_p, ax=ax3, x=\"writing_score\", hue=\"gender\")"
   ]
  },
  {
   "cell_type": "markdown",
   "metadata": {},
   "source": [
    "### Boxplots género y asignaturas"
   ]
  },
  {
   "cell_type": "code",
   "execution_count": null,
   "metadata": {},
   "outputs": [],
   "source": [
    "figura, (ax1, ax2, ax3) = plt.subplots(1, 3, figsize = (25,10))\n",
    "sns.boxplot(ax= ax1, x = students_p.gender, y  = students_p.math_score)\n",
    "sns.boxplot(ax = ax2, x = students_p.gender, y  = students_p.reading_score)\n",
    "sns.boxplot(ax= ax3, x = students_p.gender, y  = students_p.writing_score)"
   ]
  },
  {
   "cell_type": "markdown",
   "metadata": {},
   "source": [
    "### Suspensos y Aprobados de cada asignatura"
   ]
  },
  {
   "cell_type": "code",
   "execution_count": null,
   "metadata": {},
   "outputs": [],
   "source": [
    "students_p['resultados_mates'] = np.where(students_p['math_score'] < 50, 'suspendida', 'aprobada')\n",
    "students_p['resultados_reading'] = np.where(students_p['reading_score'] < 50, 'suspendida', 'aprobada')\n",
    "students_p['resultados_writing'] = np.where(students_p['writing_score'] < 50, 'suspendida', 'aprobada')"
   ]
  },
  {
   "cell_type": "code",
   "execution_count": null,
   "metadata": {},
   "outputs": [],
   "source": [
    "resultado_mates = students_p['resultados_mates'].value_counts()\n",
    "print(resultado_mates)\n",
    "resultado_reading = students_p['resultados_reading'].value_counts()\n",
    "print(resultado_reading)\n",
    "resultado_writing = students_p['resultados_writing'].value_counts()\n",
    "print(resultado_writing)"
   ]
  },
  {
   "cell_type": "code",
   "execution_count": null,
   "metadata": {},
   "outputs": [],
   "source": [
    "figura, (ax1, ax2, ax3) = plt.subplots(1, 3, figsize = (20,5))\n",
    "\n",
    "students_p['resultados_mates'].value_counts(dropna = False).plot(ax=ax1, kind= 'bar', color = 'blue', \n",
    "                                                                 title = 'Resultados en matemáticas', grid = True)\n",
    "\n",
    "ax1.set_xlabel('resultado')\n",
    "ax1.set_ylabel('Nº alumnos');\n",
    "\n",
    "students_p['resultados_reading'].value_counts(dropna = False).plot(ax=ax2, kind= 'bar', color = 'orange', \n",
    "                                                                   title = 'Resultados en comprensión lectora', grid = True)\n",
    "\n",
    "ax2.set_xlabel('resultado')\n",
    "ax2.set_ylabel('Nº alumnos');\n",
    "\n",
    "students_p['resultados_writing'].value_counts(dropna = False).plot(ax=ax3,kind= 'bar', color = 'red', \n",
    "                                                                   title= 'Resultados en expresión esccrita', grid = True)\n",
    "\n",
    "ax3.set_xlabel('resultado')\n",
    "ax3.set_ylabel('Nº alumnos');"
   ]
  },
  {
   "cell_type": "markdown",
   "metadata": {},
   "source": [
    "### Aprobados y Suspensos por género"
   ]
  },
  {
   "cell_type": "code",
   "execution_count": null,
   "metadata": {},
   "outputs": [],
   "source": [
    "resultados_mates_genero = students_p.iloc[:,[0,6]]\n",
    "resultados_mates_genero = pd.DataFrame(resultados_mates_genero.groupby(['gender']).resultados_mates.value_counts())\n",
    "\n",
    "resultados_reading_genero = students_p.iloc[:,[0,7]]\n",
    "resultados_reading_genero = pd.DataFrame(resultados_reading_genero.groupby(['gender']).resultados_reading.value_counts())\n",
    "\n",
    "resultados_writing_genero = students_p.iloc[:,[0,8]]\n",
    "resultados_writing_genero = pd.DataFrame(resultados_writing_genero.groupby(['gender']).resultados_writing.value_counts())"
   ]
  },
  {
   "cell_type": "code",
   "execution_count": null,
   "metadata": {},
   "outputs": [],
   "source": [
    "figura, (ax1, ax2, ax3) = plt.subplots(1, 3, figsize = (25,10))\n",
    "\n",
    "resultados_mates_genero.unstack().plot(ax = ax1, kind = 'bar', color='blue', edgecolor = 'black', grid = True,\n",
    "                                      title = 'Resultados en matemáticas por género');\n",
    "\n",
    "resultados_reading_genero.unstack().plot(ax = ax2, kind = 'bar', color='orange', edgecolor = 'black', grid = True,\n",
    "                                        title = 'Resultados en comprensión lectora por género');\n",
    "\n",
    "resultados_writing_genero.unstack().plot(ax = ax3, kind = 'bar', color='red', edgecolor = 'black', grid = True,\n",
    "                                        title = 'Resultados en writing por genero' );"
   ]
  },
  {
   "cell_type": "code",
   "execution_count": null,
   "metadata": {},
   "outputs": [],
   "source": [
    "print(resultados_mates_genero)\n",
    "print(resultados_reading_genero)\n",
    "print(resultados_writing_genero)"
   ]
  },
  {
   "cell_type": "markdown",
   "metadata": {},
   "source": [
    "### Media de las asignaturas por etnia"
   ]
  },
  {
   "cell_type": "code",
   "execution_count": null,
   "metadata": {},
   "outputs": [],
   "source": [
    "media_asignaturas_por_etnia = students_p[[\"race\",\"math_score\",\"reading_score\",\"writing_score\"]].groupby('race').mean()\n",
    "media_asignaturas_por_etnia"
   ]
  },
  {
   "cell_type": "code",
   "execution_count": null,
   "metadata": {},
   "outputs": [],
   "source": [
    "figura, (ax1, ax2, ax3) = plt.subplots(1, 3, figsize = (20,7))\n",
    "sns.histplot(students_p, ax=ax1, x=\"math_score\", hue=\"race\")\n",
    "sns.histplot(students_p, ax=ax2, x=\"reading_score\", hue=\"race\")\n",
    "sns.histplot(students_p, ax=ax3, x=\"writing_score\", hue=\"race\")"
   ]
  },
  {
   "cell_type": "code",
   "execution_count": null,
   "metadata": {},
   "outputs": [],
   "source": [
    "media_asignaturas_por_etnia.plot(kind = 'bar', color='lightblue', edgecolor = 'black', figsize=(15,5), grid = True, title= 'Media de las asignaturas por etnia')"
   ]
  },
  {
   "cell_type": "markdown",
   "metadata": {},
   "source": [
    "### Boxplots asignaturas y etnia"
   ]
  },
  {
   "cell_type": "code",
   "execution_count": null,
   "metadata": {},
   "outputs": [],
   "source": [
    "figura, (ax1, ax2, ax3) = plt.subplots(1, 3, figsize = (25,10))\n",
    "sns.boxplot(ax= ax1, x = students_p.race, y  = students_p.math_score)\n",
    "sns.boxplot(ax = ax2, x = students_p.race, y  = students_p.reading_score)\n",
    "sns.boxplot(ax= ax3, x = students_p.race, y  = students_p.writing_score)"
   ]
  },
  {
   "cell_type": "markdown",
   "metadata": {},
   "source": [
    "### Suspensos por etnia"
   ]
  },
  {
   "cell_type": "code",
   "execution_count": null,
   "metadata": {},
   "outputs": [],
   "source": [
    "resultados_mates_etnia = students_p.iloc[:,[1,6]]\n",
    "resultados_mates_etnia = pd.DataFrame(resultados_mates_etnia.groupby(['race']).resultados_mates.value_counts())\n",
    "\n",
    "resultados_reading_etnia = students_p.iloc[:,[1,7]]\n",
    "resultados_reading_etnia = pd.DataFrame(resultados_reading_etnia.groupby(['race']).resultados_reading.value_counts())\n",
    "\n",
    "resultados_writing_etnia = students_p.iloc[:,[1,8]]\n",
    "resultados_writing_etnia = pd.DataFrame(resultados_writing_etnia.groupby(['race']).resultados_writing.value_counts())"
   ]
  },
  {
   "cell_type": "code",
   "execution_count": null,
   "metadata": {},
   "outputs": [],
   "source": [
    "figura, (ax1, ax2, ax3) = plt.subplots(1, 3, figsize = (27,10))\n",
    "\n",
    "resultados_mates_etnia.unstack().plot(ax = ax1,kind = 'bar', color='lightblue', edgecolor = 'black', grid = True,\n",
    "                                       title= 'Media de matemáticas por etnia');\n",
    "\n",
    "resultados_reading_etnia.unstack().plot(ax = ax2, kind = 'bar', color='lightyellow', edgecolor = 'black',  \n",
    "                                        grid = True, title= 'Media de comprensión lectora por etnia');\n",
    "\n",
    "resultados_writing_etnia.unstack().plot(ax = ax3, kind = 'bar', color='darkred', edgecolor = 'black', \n",
    "                                        grid = True, title= 'Media de writing por etnia');"
   ]
  },
  {
   "cell_type": "code",
   "execution_count": null,
   "metadata": {},
   "outputs": [],
   "source": [
    "print(resultados_mates_etnia)\n",
    "print(resultados_reading_etnia)\n",
    "print(resultados_writing_etnia)"
   ]
  },
  {
   "cell_type": "code",
   "execution_count": null,
   "metadata": {},
   "outputs": [],
   "source": []
  },
  {
   "cell_type": "code",
   "execution_count": null,
   "metadata": {},
   "outputs": [],
   "source": []
  },
  {
   "cell_type": "code",
   "execution_count": null,
   "metadata": {},
   "outputs": [],
   "source": []
  },
  {
   "cell_type": "code",
   "execution_count": null,
   "metadata": {},
   "outputs": [],
   "source": []
  }
 ],
 "metadata": {
  "kernelspec": {
   "display_name": "eda_env",
   "language": "python",
   "name": "eda_env"
  },
  "language_info": {
   "codemirror_mode": {
    "name": "ipython",
    "version": 3
   },
   "file_extension": ".py",
   "mimetype": "text/x-python",
   "name": "python",
   "nbconvert_exporter": "python",
   "pygments_lexer": "ipython3",
   "version": "3.8.5"
  }
 },
 "nbformat": 4,
 "nbformat_minor": 4
}
